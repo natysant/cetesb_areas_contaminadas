{
 "cells": [
  {
   "cell_type": "code",
   "execution_count": null,
   "metadata": {},
   "outputs": [],
   "source": [
    "%matplotlib qt\n",
    "\n",
    "from pathlib import Path\n",
    "from time import time, sleep\n",
    "import re \n",
    "from math import isnan\n",
    "\n",
    "import pandas as pd\n",
    "from pandas.api.types import is_list_like\n",
    "\n",
    "import matplotlib.pyplot as plt\n",
    "from matplotlib.patches import Rectangle\n",
    "\n",
    "import numpy as np\n",
    "\n",
    "from pdfminer.layout import LAParams, LTTextBox, LTRect, LTTextLine, LTCurve\n",
    "from pdfminer.pdfpage import PDFPage\n",
    "from pdfminer.pdfinterp import PDFResourceManager\n",
    "from pdfminer.pdfinterp import PDFPageInterpreter\n",
    "from pdfminer.converter import PDFPageAggregator\n",
    "\n",
    "from tqdm import tqdm\n",
    "\n",
    "from pdf2image import convert_from_path\n",
    "\n",
    "from notify_run import Notify\n",
    "\n",
    "import json "
   ]
  },
  {
   "cell_type": "code",
   "execution_count": null,
   "metadata": {},
   "outputs": [],
   "source": [
    "notify = Notify()\n",
    "notify.register()"
   ]
  },
  {
   "cell_type": "markdown",
   "metadata": {},
   "source": [
    "# Funções"
   ]
  },
  {
   "cell_type": "code",
   "execution_count": null,
   "metadata": {},
   "outputs": [],
   "source": [
    "def extract_elements(fname):\n",
    "    with open(fname, 'rb') as fp:\n",
    "        rsrcmgr = PDFResourceManager()\n",
    "        laparams = LAParams()\n",
    "        device = PDFPageAggregator(rsrcmgr, laparams=laparams)\n",
    "        interpreter = PDFPageInterpreter(rsrcmgr, device)\n",
    "        pages = PDFPage.get_pages(fp)\n",
    "\n",
    "        x0, y0, x1, y1 = [], [], [], []\n",
    "        txt = []\n",
    "        pgn = []\n",
    "        element_type = []\n",
    "\n",
    "        for i, page in enumerate(tqdm(pages)):\n",
    " #           print(f'Processing page {i}...')\n",
    "            interpreter.process_page(page)\n",
    "            layout = device.get_result()\n",
    "            for lobj in layout:\n",
    "                if isinstance(lobj, LTTextBox):\n",
    "                    for text_line in lobj:\n",
    "                        if isinstance(text_line, LTTextLine):\n",
    "                            text = text_line.get_text().strip()\n",
    "                            if text:\n",
    "                                x0.append(text_line.bbox[0])\n",
    "                                y0.append(text_line.bbox[1])\n",
    "                                x1.append(text_line.bbox[2])\n",
    "                                y1.append(text_line.bbox[3])\n",
    "                                txt.append(text)\n",
    "                                pgn.append(i)\n",
    "                                element_type.append(\"text_line\")\n",
    "                elif isinstance(lobj, LTRect):\n",
    "                    x, y = lobj.bbox[0], lobj.bbox[3]\n",
    "                    x0.append(lobj.bbox[0])\n",
    "                    y0.append(lobj.bbox[1])\n",
    "                    x1.append(lobj.bbox[2])\n",
    "                    y1.append(lobj.bbox[3])\n",
    "                    txt.append(\"\")\n",
    "                    pgn.append(i)\n",
    "                    element_type.append(\"rectangle\")\n",
    "                elif isinstance(lobj, LTCurve):\n",
    "                    x, y = lobj.bbox[0], lobj.bbox[3]\n",
    "                    x0.append(lobj.bbox[0])\n",
    "                    y0.append(lobj.bbox[1])\n",
    "                    x1.append(lobj.bbox[2])\n",
    "                    y1.append(lobj.bbox[3])\n",
    "                    txt.append(\"\")\n",
    "                    pgn.append(i)\n",
    "                    element_type.append(\"curve\")\n",
    "                    \n",
    "    return pd.DataFrame({\"element_type\": element_type, \"x0\":x0, \"y0\":y0, \"x1\": x1, \"y1\": y1, \"page\": pgn, \"text\": txt,})"
   ]
  },
  {
   "cell_type": "code",
   "execution_count": null,
   "metadata": {},
   "outputs": [],
   "source": [
    "def get_element_by_text(elements, text, page=None):\n",
    "    if page is not None:\n",
    "        elements = elements[elements.page == page]\n",
    "    elements = elements[elements.element_type == \"text_line\"]\n",
    "    if not is_list_like(text):\n",
    "        text = [text]\n",
    "    return elements[elements.text.str.strip().str.replace(r\"\\s+\", \" \").isin(text)].iloc[0] \n",
    "\n",
    "def get_right(elements, field_element, page=None):\n",
    "    if page is not None:\n",
    "        elements = elements[elements.page == page]    \n",
    "    y_ = (field_element.y0 + field_element.y1)/2\n",
    "    return elements[(elements.y0 < y_) & (elements.y1 > y_) & (elements.x0 > field_element.x1)].sort_values(\"x0\")\n",
    "\n",
    "def get_above(elements, reference_element, page=None):\n",
    "    if page is not None:\n",
    "        elements = elements[elements.page == page]    \n",
    "    x_ = reference_element.x0\n",
    "    return elements[(elements.x0 < x_) & (elements.x1 > x_) & (elements.y0 > reference_element.y1)].sort_values(\"y0\")\n",
    "\n",
    "def get_left(elements, check_element, page=None):\n",
    "    if page is not None:\n",
    "        elements = elements[elements.page == page]\n",
    "    y_ = (check_element.y0 + check_element.y1)/2\n",
    "    return elements[(elements.y0 < y_) & (elements.y1 > y_) & (elements.x0 < check_element.x0)].sort_values(\"x0\", ascending=False)    \n",
    "    \n",
    "\n",
    "def clip(elements, left=None, right=None, top=None, bottom=None, page=None):\n",
    "    if page is not None:\n",
    "        elements = elements[elements.page == page]    \n",
    "    if left is not None:\n",
    "        elements = elements[elements.x0 > left]\n",
    "    if right is not None:\n",
    "        elements = elements[elements.x0 < right]        \n",
    "    if top is not None:\n",
    "        elements = elements[elements.y1 < top]    \n",
    "    if bottom is not None:\n",
    "        elements = elements[elements.y1 > bottom] \n",
    "    return elements\n",
    "\n",
    "def get_check_label(elements, check_element, page=None):\n",
    "    if page is not None:\n",
    "        elements = elements[elements.page == page]\n",
    "    y_ = (check_element.y0 + check_element.y1)/2\n",
    "    return elements[(elements.y0 < y_) & (elements.y1 > y_) & (elements.x0 > check_element.x1)].sort_values(\"x0\").text.iloc[0]    \n",
    "    \n",
    "   \n",
    "        \n",
    "def plot_page(fname, page=0, dpi=200, plot_txt=None, ax=None, alpha=0.5, color=\"blue\", grid=True):\n",
    "    if ax is None:\n",
    "        fig = plt.figure()\n",
    "        ax = fig.gca()\n",
    "    img = convert_from_path(fname, dpi=dpi, first_page=page+1, last_page=page+1)[0]\n",
    "    h, w = img.height, img.width\n",
    "    extent = (0, w*72/dpi, 0, h*72/dpi)\n",
    "    \n",
    "    ax.imshow(img, extent=extent)\n",
    "    ax.grid(grid)\n",
    "    \n",
    "    if plot_txt is not None:\n",
    "        for i, r in plot_txt[plot_txt.page == page].iterrows():\n",
    "            ax.add_patch(Rectangle((r.x0, r.y0), r.x1 - r.x0, r.y1 - r.y0, alpha=alpha, color=color, picker=True))\n",
    "            \n",
    "    return ax"
   ]
  },
  {
   "cell_type": "code",
   "execution_count": null,
   "metadata": {},
   "outputs": [],
   "source": [
    "class Alarm:\n",
    "    def __init__(self, message):\n",
    "        self.message = message\n",
    "    def __enter__(self):\n",
    "        self.start_time = time()\n",
    "    def __exit__(self, type_, value, traceback):\n",
    "        dt = time()-self.start_time\n",
    "        if value is None:\n",
    "            notify.send(f\"{self.message} Terminado em {dt/60} minutos\")\n",
    "        else:\n",
    "            notify.send(f\"Erro {value} processando {self.message}\")"
   ]
  },
  {
   "cell_type": "markdown",
   "metadata": {},
   "source": [
    "# Processamento"
   ]
  },
  {
   "cell_type": "code",
   "execution_count": null,
   "metadata": {},
   "outputs": [],
   "source": [
    "acs = \"Municípios.pdf\" \n",
    "\n",
    "elements = extract_elements(acs)\n",
    "\n",
    "elements.to_parquet(\"municipios.parquet\", compression=None)"
   ]
  },
  {
   "cell_type": "code",
   "execution_count": null,
   "metadata": {},
   "outputs": [],
   "source": [
    "areas_contaminadas = []\n",
    "\n",
    "elements = elements[elements.element_type != \"rectangle\"]\n",
    "\n",
    "with Alarm(\"ACs Cetesb 2019\"):\n",
    "    for page in tqdm(range(elements.page.max()+1)):\n",
    "        dados = {\n",
    "            \"empreendimento\":None,\n",
    "            \"endereco\":None,\n",
    "            \"municipio\":None,\n",
    "            \"atividade\":None,\n",
    "            \"coordenadas\":None,\n",
    "            \"classificacao\":None,\n",
    "            \"reutilizacao\":False,\n",
    "            \"etapas\":None,\n",
    "            \"fontes\":None,\n",
    "            \"meios_impactados\":None,\n",
    "            \"contaminantes\":None,\n",
    "            \"fase_livre\":False,\n",
    "            \"pops\":False,\n",
    "            \"medidas_emergenciais\":None,\n",
    "            \"medidas_controle_institucional\":None,\n",
    "            \"medidas_remediacao\":None,\n",
    "            \"medidas_controle_engenharia\":None   \n",
    "        }\n",
    "        \n",
    "        page_elements = elements[elements.page == page]\n",
    "        page_text = page_elements[page_elements.element_type == \"text_line\"]\n",
    "        page_check = page_elements[page_elements.element_type == \"curve\"]\n",
    "        page_check = page_check[abs((page_check.x0 - page_check.x1)/(page_check.y0 - page_check.y1) - 1) < 0.5]\n",
    "        \n",
    "        atividade = get_element_by_text(page_text, \"Atividade\")\n",
    "        dados_empreendimento = get_above(page_text, atividade).text.to_list()\n",
    "        dados[\"empreendimento\"] = dados_empreendimento[1]\n",
    "        dados[\"endereco\"] = dados_empreendimento[0]\n",
    "        if len(dados_empreendimento) == 3:\n",
    "            dados[\"municipio\"] = dados_empreendimento[2]\n",
    "        \n",
    "        dados[\"atividade\"] = get_check_label(page_text, get_right(page_check, atividade).iloc[0])\n",
    "        dados[\"coordenadas\"] = get_right(page_text, get_element_by_text(page_text, \"Coordenadas (m):\")).text.str.cat(sep = \" \")\n",
    "        \n",
    "        linha_classificacao = get_right(page_elements, get_element_by_text(page_text, \"Classificação\"))\n",
    "        dados[\"classificacao\"] = linha_classificacao.text.iloc[0]\n",
    "        dados[\"reutilizacao\"] = \"curve\" in linha_classificacao.element_type\n",
    "        \n",
    "        etapas_titulo = get_element_by_text(page_text, \"Etapas do gerenciamento\") \n",
    "        fonte_titulo = get_element_by_text(page_text, \"Fonte de contaminação\")\n",
    "\n",
    "        etapas = clip(page_check, top=etapas_titulo.y0, bottom=fonte_titulo.y1)\n",
    "        dados[\"etapas\"] = [\n",
    "            get_check_label(page_text, check)\n",
    "            for check in etapas.itertuples(index=False)\n",
    "        ]\n",
    "        \n",
    "        meios_titulo = get_element_by_text(page_text, \"Meios impactados\")\n",
    "        \n",
    "        meios = clip(page_check, top=fonte_titulo.y0, bottom=meios_titulo.y1)\n",
    "        dados[\"fontes\"] = [\n",
    "            get_check_label(page_text, check)\n",
    "            for check in meios.itertuples(index=False)\n",
    "        ]\n",
    "        \n",
    "        institucional_titulo =  get_element_by_text(page_text, \"Medidas de controle institucional\")\n",
    "        contaminantes_titulo = get_element_by_text(page_text, \"Contaminantes\")\n",
    "        \n",
    "        contaminantes = clip(page_check, top=contaminantes_titulo.y0, bottom=institucional_titulo.y1, left=contaminantes_titulo.x0)\n",
    "        dados[\"contaminantes\"] = [\n",
    "            get_check_label(page_text, check)\n",
    "            for check in contaminantes.itertuples(index=False)\n",
    "        ]\n",
    "        \n",
    "        emergencial_titulo =  get_element_by_text(page_text, \"Medidas emergenciais\")\n",
    "        remediacao_titulo = get_element_by_text(page_text, \"Medidas de remediação\")\n",
    "        trabalhadores_obras_titulo = get_element_by_text(page_text, \"trabalhadores de obras\")\n",
    "        \n",
    "        emergencial = clip(page_check, top=emergencial_titulo.y0, bottom=remediacao_titulo.y1, right=trabalhadores_obras_titulo.x0)\n",
    "        dados[\"medidas_emergenciais\"] = [\n",
    "            get_check_label(page_text, check)\n",
    "            for check in emergencial.itertuples(index=False)\n",
    "        ]\n",
    "        \n",
    "        engenharia_titulo = get_element_by_text(page_text, \"Medidas de controle de engenharia\")\n",
    "        \n",
    "        remediacao = clip(page_check, top=remediacao_titulo.y0, bottom=engenharia_titulo.y1)\n",
    "        dados[\"medidas_remediacao\"] = [\n",
    "            get_check_label(page_text, check)\n",
    "            for check in remediacao.itertuples(index=False)\n",
    "        ]  \n",
    "        \n",
    "        engenharia = clip(page_check, top=engenharia_titulo.y0)\n",
    "        dados[\"medidas_controle_engenharia\"] = [\n",
    "            get_check_label(page_text, check)\n",
    "            for check in engenharia.itertuples(index=False)\n",
    "        ]        \n",
    "        \n",
    "        faselivre_titulo = get_element_by_text(page_text, \"existência de fase livre\")\n",
    "        \n",
    "        impactados = clip(page_check, top=meios_titulo.y0, bottom=faselivre_titulo.y1, right=trabalhadores_obras_titulo.x0)\n",
    "        dados[\"meios_impactados\"] = [\n",
    "            (get_above(page_text, check).iloc[0].text, get_left(page_text, check).iloc[0].text)\n",
    "            for check in impactados.itertuples(index=False)\n",
    "        ]  \n",
    "\n",
    "        institucional = clip(page_check, top=institucional_titulo.y0, bottom=trabalhadores_obras_titulo.y1, left=trabalhadores_obras_titulo.x0)\n",
    "        dados[\"medidas_controle_institucional\"] = [\n",
    "            (get_above(page_text, check).iloc[0].text, get_left(page_text, check).iloc[0].text)\n",
    "            for check in institucional.itertuples(index=False)\n",
    "        ]          \n",
    "              \n",
    "        dados[\"fase_livre\"] = not get_left(page_check, faselivre_titulo).empty\n",
    "        dados[\"pops\"] = not get_left(page_check, get_element_by_text(page_text, \"existência de POPs\")).empty        \n",
    "        \n",
    "        areas_contaminadas.append(dados)"
   ]
  },
  {
   "cell_type": "code",
   "execution_count": null,
   "metadata": {},
   "outputs": [],
   "source": [
    "cetesb = pd.DataFrame(areas_contaminadas)\n",
    "cetesb[\"municipio\"] = cetesb[\"municipio\"].fillna(method=\"ffill\")"
   ]
  },
  {
   "cell_type": "code",
   "execution_count": null,
   "metadata": {},
   "outputs": [],
   "source": [
    "cetesb.to_excel(\"cetesb2019.xlsx\")"
   ]
  },
  {
   "cell_type": "markdown",
   "metadata": {},
   "source": [
    "# Áreas Contaminadas extraídas"
   ]
  },
  {
   "cell_type": "code",
   "execution_count": null,
   "metadata": {},
   "outputs": [],
   "source": [
    "acs.columns"
   ]
  },
  {
   "cell_type": "code",
   "execution_count": null,
   "metadata": {},
   "outputs": [],
   "source": [
    "acs = pd.read_excel(\"G:\\Meu Drive\\8th Semestre\\TF\\cetesb2019.xlsx\", index_col=0)"
   ]
  },
  {
   "cell_type": "code",
   "execution_count": null,
   "metadata": {},
   "outputs": [],
   "source": [
    "def filtrar_duplas(valor):\n",
    "    def filtro(lista):\n",
    "        return [b for a, b in lista if a == valor]\n",
    "    return filtro"
   ]
  },
  {
   "cell_type": "code",
   "execution_count": null,
   "metadata": {},
   "outputs": [],
   "source": [
    "meios_impactados = acs.meios_impactados.str.replace(\"'\", \"\\\"\", regex=False).str.replace(\"(\", \"[\", regex=False).str.replace(\")\", \"]\", regex=False).map(json.loads)\n",
    "\n",
    "dentro = meios_impactados.map(filtrar_duplas(\"Dentro\")).map(\", \".join)\n",
    "acs[\"meio_interno_impactado\"] = dentro\n",
    "\n",
    "fora = meios_impactados.map(filtrar_duplas(\"Fora\")).map(\", \".join)\n",
    "acs[\"meio_externo_impactado\"] = fora"
   ]
  },
  {
   "cell_type": "code",
   "execution_count": null,
   "metadata": {},
   "outputs": [],
   "source": [
    "controle_institucional = acs.medidas_controle_institucional.str.replace(\"'\", \"\\\"\", regex=False).str.replace(\"(\", \"[\", regex=False).str.replace(\")\", \"]\", regex=False).map(json.loads)\n",
    "\n",
    "plano = controle_institucional.map(filtrar_duplas(\"ou no plano de intervenção\")).map(\", \".join)\n",
    "acs[\"medida_adm_proposta\"] = plano\n",
    "\n",
    "responsavel  = controle_institucional.map(filtrar_duplas(\"responsável\")).map(\", \".join)\n",
    "acs[\"medida_adm_comunidada\"] = responsavel\n",
    "\n",
    "implantada  = controle_institucional.map(filtrar_duplas(\"implantada\")).map(\", \".join)\n",
    "acs[\"medida_adm_implantada\"] = implantada"
   ]
  },
  {
   "cell_type": "code",
   "execution_count": null,
   "metadata": {},
   "outputs": [],
   "source": [
    "etapas = acs.etapas.str.replace(\"'\", \"\\\"\", regex=False).str.replace(\"(\", \"[\", regex=False).str.replace(\")\", \"]\", regex=False).map(json.loads)\n",
    "gerenciamento = etapas.map(\", \".join)\n",
    "acs[\"etapas\"] = gerenciamento"
   ]
  },
  {
   "cell_type": "code",
   "execution_count": null,
   "metadata": {},
   "outputs": [],
   "source": [
    "fonte = acs.fontes.str.replace(\"'\", \"\\\"\", regex=False).str.replace(\"(\", \"[\", regex=False).str.replace(\")\", \"]\", regex=False).map(json.loads)\n",
    "fontes = fonte.map(\", \".join)\n",
    "acs[\"fontes\"] = fontes"
   ]
  },
  {
   "cell_type": "code",
   "execution_count": null,
   "metadata": {},
   "outputs": [],
   "source": [
    "rem = acs.medidas_remediacao.str.replace(\"'\", \"\\\"\", regex=False).str.replace(\"(\", \"[\", regex=False).str.replace(\")\", \"]\", regex=False).map(json.loads)\n",
    "remediacao = rem.map(\", \".join)\n",
    "acs[\"medida_remediacao\"] = remediacao"
   ]
  },
  {
   "cell_type": "code",
   "execution_count": null,
   "metadata": {},
   "outputs": [],
   "source": [
    "eng = acs.medidas_controle_engenharia.str.replace(\"'\", \"\\\"\", regex=False).str.replace(\"(\", \"[\", regex=False).str.replace(\")\", \"]\", regex=False).map(json.loads)\n",
    "engenharia = eng.map(\", \".join)\n",
    "acs[\"medida_engenharia\"] = engenharia"
   ]
  },
  {
   "cell_type": "code",
   "execution_count": null,
   "metadata": {},
   "outputs": [],
   "source": [
    "cont = acs.contaminantes.str.replace(\"'\", \"\\\"\", regex=False).str.replace(\"(\", \"[\", regex=False).str.replace(\")\", \"]\", regex=False).map(json.loads)\n",
    "contaminante = cont.map(\", \".join)\n",
    "acs[\"contaminantes\"] = contaminante"
   ]
  },
  {
   "cell_type": "code",
   "execution_count": null,
   "metadata": {},
   "outputs": [],
   "source": [
    "em = acs.medidas_emergenciais.str.replace(\"'\", \"\\\"\", regex=False).str.replace(\"(\", \"[\", regex=False).str.replace(\")\", \"]\", regex=False).map(json.loads)\n",
    "emergencia = em.map(\", \".join)\n",
    "acs[\"medida_emergencial\"] = emergencia"
   ]
  },
  {
   "cell_type": "code",
   "execution_count": null,
   "metadata": {},
   "outputs": [],
   "source": [
    "company = (acs.empreendimento\n",
    "           .str.strip()\n",
    "           .str.replace(r\"\\s+\", r\" \", regex=True)\n",
    ")"
   ]
  },
  {
   "cell_type": "code",
   "execution_count": null,
   "metadata": {},
   "outputs": [],
   "source": [
    "adress = (acs.endereco\n",
    "           .str.strip()\n",
    "           .str.replace(r\"\\s+\", r\" \", regex=True)\n",
    ")"
   ]
  },
  {
   "cell_type": "code",
   "execution_count": null,
   "metadata": {},
   "outputs": [],
   "source": [
    "district = (acs.municipio\n",
    "           .str.strip()\n",
    "           .str.replace(r\"\\s+\", r\" \", regex=True)\n",
    ") "
   ]
  },
  {
   "cell_type": "code",
   "execution_count": null,
   "metadata": {},
   "outputs": [],
   "source": [
    "coord = acs.coordenadas.str.extract(r\"(?P<crs>fuso [0-9]+ DATUM [0-9A-Za-zó ]+) UTM_E (?P<leste>[0-9.]+),00 UTM_N (?P<norte>[0-9.]+),00\")"
   ]
  },
  {
   "cell_type": "code",
   "execution_count": null,
   "metadata": {},
   "outputs": [],
   "source": [
    "acs[\"crs\"] = coord.crs.str.replace(r\"^fuso ([0-9]+) DATUM ([0-9A-Za-zó ]+)\", r\"UTM \\2 \\1S\", regex=True)\n",
    "acs[\"leste\"] = pd.to_numeric(coord.leste.str.replace(r\"\\.\", r\"\", regex=True), downcast='float')\n",
    "acs[\"norte\"] = pd.to_numeric(coord.norte.str.replace(r\"\\.\", r\"\", regex=True), downcast='float')\n",
    "acs[\"empreendimento\"] = company\n",
    "acs[\"endereco\"] = adress\n",
    "acs[\"municipio\"] = district"
   ]
  },
  {
   "cell_type": "code",
   "execution_count": null,
   "metadata": {},
   "outputs": [],
   "source": [
    "acs = acs.drop(columns=[\"meios_impactados\", \"medidas_emergenciais\", \"medidas_controle_institucional\", \"medidas_remediacao\", \"medidas_controle_engenharia\", \"coordenadas\"])"
   ]
  },
  {
   "cell_type": "code",
   "execution_count": null,
   "metadata": {},
   "outputs": [],
   "source": [
    "columnsTitles = ['empreendimento', 'endereco', 'municipio', 'atividade', 'crs', 'leste', 'norte', 'classificacao','reutilizacao',\n",
    "                 'etapas', 'fontes', 'meio_interno_impactado', 'meio_externo_impactado', 'contaminantes','fase_livre', 'pops',\n",
    "                 'medida_emergencial', 'medida_adm_proposta','medida_adm_comunidada', 'medida_adm_implantada', 'medida_remediacao','medida_engenharia']\n",
    "\n",
    "acs_corrigido = acs.reindex(columns=columnsTitles)"
   ]
  },
  {
   "cell_type": "code",
   "execution_count": null,
   "metadata": {},
   "outputs": [],
   "source": [
    "acs_corrigido.to_excel(\"cetesb2019_corrigido.xlsx\")"
   ]
  },
  {
   "cell_type": "code",
   "execution_count": null,
   "metadata": {},
   "outputs": [],
   "source": [
    "lista_dentro = []\n",
    "lista_fora = []\n",
    "for tupla in acs.meios_impactados:\n",
    "    if tupla[3:][0] == 'Dentro':\n",
    "        lista_dentro.append(tupla)\n",
    "    elif tupla[3:][0] == 'Fora':\n",
    "        lista_fora.append(tupla)\n",
    "print(lista_dentro)"
   ]
  },
  {
   "cell_type": "markdown",
   "metadata": {},
   "source": [
    "# GeoDataFrame"
   ]
  },
  {
   "cell_type": "code",
   "execution_count": null,
   "metadata": {},
   "outputs": [],
   "source": [
    "%matplotlib inline\n",
    "\n",
    "import geopandas as gpd\n",
    "import pandas as pd\n",
    "\n",
    "from shapely.geometry import Polygon, Point, LineString, MultiPolygon\n",
    "\n",
    "import os\n",
    "\n",
    "import fiona\n"
   ]
  },
  {
   "cell_type": "code",
   "execution_count": null,
   "metadata": {},
   "outputs": [],
   "source": [
    "acs_corrigido = pd.read_excel(\"cetesb2019_corrigido.xlsx\", index_col=0)"
   ]
  },
  {
   "cell_type": "code",
   "execution_count": null,
   "metadata": {},
   "outputs": [],
   "source": [
    "acs_corrigido[\"crs_code\"] = acs_corrigido.crs\n",
    "        \n",
    "     "
   ]
  },
  {
   "cell_type": "code",
   "execution_count": null,
   "metadata": {},
   "outputs": [],
   "source": [
    "geo_dados = gpd.GeoDataFrame(acs_corrigido, crs=acs_corrigido.crs, geometry=acs_corrigido) "
   ]
  },
  {
   "cell_type": "code",
   "execution_count": null,
   "metadata": {},
   "outputs": [],
   "source": [
    "acs[\"crs_code\"] = crs_code"
   ]
  },
  {
   "cell_type": "code",
   "execution_count": null,
   "metadata": {},
   "outputs": [],
   "source": [
    "acs_corrigido[\"crs_code\"] = acs_corrigido.crs_code.replace(\n",
    "    {\"UTM WGS84 23S\":\"EPSG:32723\", \"UTM WGS84 22S\":\"EPSG:32722\", \"UTM SAD69 23S\":\"EPSG:29193\", \"UTM SAD69 22S\":\"EPSG:29192\",\n",
    "     \"UTM Córrego Alegre 22S\":\"EPSG:22522\", \"UTM Córrego Alegre 23S\":\"EPSG:22523\", \"UTM SIRGAS2000 23S\":\"EPSG:31983\", \"UTM SIRGAS2000 22S\":\"EPSG:31982\"})"
   ]
  },
  {
   "cell_type": "code",
   "execution_count": null,
   "metadata": {},
   "outputs": [],
   "source": [
    "columnsTitles = ['empreendimento', 'endereco', 'municipio', 'atividade', 'crs', 'crs_code', 'leste', 'norte', 'classificacao','reutilizacao',\n",
    "                 'etapas', 'fontes', 'meio_interno_impactado', 'meio_externo_impactado', 'contaminantes','fase_livre', 'pops',\n",
    "                 'medida_emergencial', 'medida_adm_proposta','medida_adm_comunidada', 'medida_adm_implantada', 'medida_remediacao','medida_engenharia']\n",
    "\n",
    "acs_corrigido = acs_corrigido.reindex(columns=columnsTitles)"
   ]
  },
  {
   "cell_type": "code",
   "execution_count": null,
   "metadata": {},
   "outputs": [],
   "source": [
    "lista = []\n",
    "\n",
    "for crs, geodata in acs_corrigido.groupby(\"crs_code\"):\n",
    "    gdf = gpd.GeoDataFrame(geodata, geometry=gpd.points_from_xy(geodata.leste, geodata.norte), crs=crs)\n",
    "    sirgas = gdf.to_crs(epsg=4989)\n",
    "    lista.append(sirgas)\n",
    "geodados = pd.concat(lista)"
   ]
  },
  {
   "cell_type": "code",
   "execution_count": null,
   "metadata": {},
   "outputs": [],
   "source": [
    "geodados.to_file(\"acs2019_cetesb.gpkg\", driver=\"GPKG\")"
   ]
  },
  {
   "cell_type": "code",
   "execution_count": null,
   "metadata": {},
   "outputs": [],
   "source": [
    "geodados.to_file(\"acs2019_cetesb.shp\")"
   ]
  },
  {
   "cell_type": "code",
   "execution_count": null,
   "metadata": {},
   "outputs": [],
   "source": [
    "fiona.supported_drivers['KML'] = 'rw'\n",
    "\n",
    "geodados.to_file('acs2019_cetesb.kml', driver='KML')"
   ]
  }
 ],
 "metadata": {
  "kernelspec": {
   "display_name": "cetesb",
   "language": "python",
   "name": "cetesb"
  },
  "language_info": {
   "codemirror_mode": {
    "name": "ipython",
    "version": 3
   },
   "file_extension": ".py",
   "mimetype": "text/x-python",
   "name": "python",
   "nbconvert_exporter": "python",
   "pygments_lexer": "ipython3",
   "version": "3.8.5"
  },
  "toc-autonumbering": true
 },
 "nbformat": 4,
 "nbformat_minor": 4
}
